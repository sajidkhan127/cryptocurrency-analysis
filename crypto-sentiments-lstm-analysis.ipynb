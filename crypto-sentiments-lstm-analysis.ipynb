{
 "cells": [
  {
   "cell_type": "code",
   "execution_count": 160,
   "metadata": {
    "collapsed": true
   },
   "outputs": [],
   "source": [
    "import pandas as pd\n",
    "import numpy as np\n",
    "\n",
    "import datetime\n",
    "import matplotlib.pyplot as plt\n",
    "from matplotlib.dates import WeekdayLocator\n",
    "from matplotlib.dates import MO, TU, WE, TH, FR, SA, SU\n",
    "from sklearn.preprocessing import MinMaxScaler\n",
    "from sklearn.preprocessing import LabelEncoder\n",
    "\n",
    "class Opinion:\n",
    "    \n",
    "    @classmethod\n",
    "    def getDataByDateRange(self, data, fromDate, toDate):\n",
    "        data = data[( pd.to_datetime(data['date']) >= fromDate) & ( pd.to_datetime(data['date']) <= toDate) ]\n",
    "        return data\n",
    "    \n",
    "    @classmethod\n",
    "    def orderData(self, data, by, tureOrFalse=True):\n",
    "        #by : Name or list of names which refer to the axis items\n",
    "        #Ascending by default\n",
    "        data = data.sort_values(by, ascending=tureOrFalse)\n",
    "        return data\n",
    "        \n",
    "    @classmethod\n",
    "    def vaderCategorize(self, data):\n",
    "        #categorizing based on value ranges given in paper\n",
    "        values = pd.cut(data[\"VADER\"], bins=[-1.1, -0.61, -0.21, 0.19, 0.59,1], \n",
    "                    labels=[\"very nagative\",\"negative\",\"neutral\", \"positive\", \"very positive\"] )\n",
    "        #create new column category and assign values\n",
    "        data[\"category\"] = str('')\n",
    "        data[\"category\"] = values\n",
    "        return data\n",
    "        \n",
    "    @classmethod\n",
    "    def getCommentsByCat(self, data, cat):   \n",
    "        #get only positive rows\n",
    "        data = data.loc[data[\"category\"] == cat]\n",
    "        return data\n",
    "    \n",
    "    @classmethod\n",
    "    def groupBy(self, data, col, operation=\"sum\"):   \n",
    "        #get only positive rows\n",
    "        if(operation == \"sum\"):\n",
    "            data = data.groupby([col], sort=False).sum().reset_index()\n",
    "        if(operation == \"mean\"):\n",
    "            data = data.groupby([col], sort=False).mean().reset_index()\n",
    "            \n",
    "        if(operation == \"count\"):\n",
    "            data = data.groupby([col], sort=False).count().reset_index()\n",
    "        \n",
    "        return data\n",
    "    \n",
    "    @classmethod\n",
    "    def zscore(self, data, cols):\n",
    "        for col in cols:\n",
    "            col_zscore = 'zscore_'+col\n",
    "            zscore = (data[col] - data[col].mean()) / data[col].std(ddof=0)         \n",
    "        return zscore\n",
    "    \n",
    "    @classmethod\n",
    "    def plotData(cls, x, y, colour, x1='', y1='', colour1=''):\n",
    "        fig, ax = plt.subplots(figsize=(15, 7))\n",
    "        if len(x1) > 1:\n",
    "            ax.plot_date(x, y,  fmt=colour)\n",
    "            ax.plot_date(x1, y1,  fmt=colour1)\n",
    "        else:\n",
    "            ax.plot_date(x, y,  fmt=colour)\n",
    "            \n",
    "        \n",
    "        fig.autofmt_xdate()\n",
    "        # For tickmarks and ticklabels every week\n",
    "        ax.xaxis.set_major_locator(WeekdayLocator(byweekday=MO))\n",
    "        # For tickmarks and ticklabels every other week\n",
    "        ax.xaxis.set_major_locator(WeekdayLocator(byweekday=MO, interval=1))\n",
    "\n",
    "        plt.grid(True)\n",
    "        plt.show()\n",
    "\n",
    "opinion = Opinion()"
   ]
  },
  {
   "cell_type": "code",
   "execution_count": 2,
   "metadata": {},
   "outputs": [
    {
     "name": "stdout",
     "output_type": "stream",
     "text": [
      "loading\n"
     ]
    },
    {
     "data": {
      "text/html": [
       "<div>\n",
       "<style>\n",
       "    .dataframe thead tr:only-child th {\n",
       "        text-align: right;\n",
       "    }\n",
       "\n",
       "    .dataframe thead th {\n",
       "        text-align: left;\n",
       "    }\n",
       "\n",
       "    .dataframe tbody tr th {\n",
       "        vertical-align: top;\n",
       "    }\n",
       "</style>\n",
       "<table border=\"1\" class=\"dataframe\">\n",
       "  <thead>\n",
       "    <tr style=\"text-align: right;\">\n",
       "      <th></th>\n",
       "      <th>VADER</th>\n",
       "    </tr>\n",
       "  </thead>\n",
       "  <tbody>\n",
       "    <tr>\n",
       "      <th>count</th>\n",
       "      <td>396675.000000</td>\n",
       "    </tr>\n",
       "    <tr>\n",
       "      <th>mean</th>\n",
       "      <td>0.190674</td>\n",
       "    </tr>\n",
       "    <tr>\n",
       "      <th>std</th>\n",
       "      <td>0.531326</td>\n",
       "    </tr>\n",
       "    <tr>\n",
       "      <th>min</th>\n",
       "      <td>-0.999800</td>\n",
       "    </tr>\n",
       "    <tr>\n",
       "      <th>25%</th>\n",
       "      <td>-0.150100</td>\n",
       "    </tr>\n",
       "    <tr>\n",
       "      <th>50%</th>\n",
       "      <td>0.232500</td>\n",
       "    </tr>\n",
       "    <tr>\n",
       "      <th>75%</th>\n",
       "      <td>0.659000</td>\n",
       "    </tr>\n",
       "    <tr>\n",
       "      <th>max</th>\n",
       "      <td>0.999900</td>\n",
       "    </tr>\n",
       "  </tbody>\n",
       "</table>\n",
       "</div>"
      ],
      "text/plain": [
       "               VADER\n",
       "count  396675.000000\n",
       "mean        0.190674\n",
       "std         0.531326\n",
       "min        -0.999800\n",
       "25%        -0.150100\n",
       "50%         0.232500\n",
       "75%         0.659000\n",
       "max         0.999900"
      ]
     },
     "execution_count": 2,
     "metadata": {},
     "output_type": "execute_result"
    }
   ],
   "source": [
    "print('loading') \n",
    "# load replies data\n",
    "def dateparse(x):\n",
    "    datetime.datetime.strptime(x, \"%m/%d/%Y\").strftime('%Y-%m-%d')\n",
    "\n",
    "replies = pd.read_excel('bitcoin-data/bitcoin_reply_xl.xlsx', 'bitcoin_reply_xl', parse_dates = ['date'], dayfirst=True)\n",
    "replies.describe()"
   ]
  },
  {
   "cell_type": "code",
   "execution_count": 3,
   "metadata": {},
   "outputs": [
    {
     "name": "stdout",
     "output_type": "stream",
     "text": [
      "reading\n"
     ]
    },
    {
     "data": {
      "text/html": [
       "<div>\n",
       "<style>\n",
       "    .dataframe thead tr:only-child th {\n",
       "        text-align: right;\n",
       "    }\n",
       "\n",
       "    .dataframe thead th {\n",
       "        text-align: left;\n",
       "    }\n",
       "\n",
       "    .dataframe tbody tr th {\n",
       "        vertical-align: top;\n",
       "    }\n",
       "</style>\n",
       "<table border=\"1\" class=\"dataframe\">\n",
       "  <thead>\n",
       "    <tr style=\"text-align: right;\">\n",
       "      <th></th>\n",
       "      <th>reply</th>\n",
       "      <th>views</th>\n",
       "      <th>VADER</th>\n",
       "      <th>Opinion</th>\n",
       "    </tr>\n",
       "  </thead>\n",
       "  <tbody>\n",
       "    <tr>\n",
       "      <th>count</th>\n",
       "      <td>13759.000000</td>\n",
       "      <td>13759.000000</td>\n",
       "      <td>13759.000000</td>\n",
       "      <td>13759.000000</td>\n",
       "    </tr>\n",
       "    <tr>\n",
       "      <th>mean</th>\n",
       "      <td>28.959881</td>\n",
       "      <td>2075.020060</td>\n",
       "      <td>0.318256</td>\n",
       "      <td>0.060179</td>\n",
       "    </tr>\n",
       "    <tr>\n",
       "      <th>std</th>\n",
       "      <td>90.071997</td>\n",
       "      <td>9111.454448</td>\n",
       "      <td>0.581903</td>\n",
       "      <td>0.237826</td>\n",
       "    </tr>\n",
       "    <tr>\n",
       "      <th>min</th>\n",
       "      <td>0.000000</td>\n",
       "      <td>15.000000</td>\n",
       "      <td>-0.999800</td>\n",
       "      <td>0.000000</td>\n",
       "    </tr>\n",
       "    <tr>\n",
       "      <th>25%</th>\n",
       "      <td>3.000000</td>\n",
       "      <td>487.000000</td>\n",
       "      <td>0.000000</td>\n",
       "      <td>0.000000</td>\n",
       "    </tr>\n",
       "    <tr>\n",
       "      <th>50%</th>\n",
       "      <td>12.000000</td>\n",
       "      <td>847.000000</td>\n",
       "      <td>0.451500</td>\n",
       "      <td>0.000000</td>\n",
       "    </tr>\n",
       "    <tr>\n",
       "      <th>75%</th>\n",
       "      <td>30.000000</td>\n",
       "      <td>1707.500000</td>\n",
       "      <td>0.854000</td>\n",
       "      <td>0.000000</td>\n",
       "    </tr>\n",
       "    <tr>\n",
       "      <th>max</th>\n",
       "      <td>4539.000000</td>\n",
       "      <td>457505.000000</td>\n",
       "      <td>0.999900</td>\n",
       "      <td>1.000000</td>\n",
       "    </tr>\n",
       "  </tbody>\n",
       "</table>\n",
       "</div>"
      ],
      "text/plain": [
       "              reply          views         VADER       Opinion\n",
       "count  13759.000000   13759.000000  13759.000000  13759.000000\n",
       "mean      28.959881    2075.020060      0.318256      0.060179\n",
       "std       90.071997    9111.454448      0.581903      0.237826\n",
       "min        0.000000      15.000000     -0.999800      0.000000\n",
       "25%        3.000000     487.000000      0.000000      0.000000\n",
       "50%       12.000000     847.000000      0.451500      0.000000\n",
       "75%       30.000000    1707.500000      0.854000      0.000000\n",
       "max     4539.000000  457505.000000      0.999900      1.000000"
      ]
     },
     "execution_count": 3,
     "metadata": {},
     "output_type": "execute_result"
    }
   ],
   "source": [
    "# load topics data\n",
    "print('reading')\n",
    "topics = pd.read_excel('bitcoin-data/bitcoin_topic.xlsx', 'bitcoin_topic', parse_dates = ['date'], dayfirst=True)\n",
    "topics.describe()"
   ]
  },
  {
   "cell_type": "code",
   "execution_count": 144,
   "metadata": {},
   "outputs": [
    {
     "data": {
      "text/html": [
       "<div>\n",
       "<style>\n",
       "    .dataframe thead tr:only-child th {\n",
       "        text-align: right;\n",
       "    }\n",
       "\n",
       "    .dataframe thead th {\n",
       "        text-align: left;\n",
       "    }\n",
       "\n",
       "    .dataframe tbody tr th {\n",
       "        vertical-align: top;\n",
       "    }\n",
       "</style>\n",
       "<table border=\"1\" class=\"dataframe\">\n",
       "  <thead>\n",
       "    <tr style=\"text-align: right;\">\n",
       "      <th></th>\n",
       "      <th>close_price</th>\n",
       "    </tr>\n",
       "  </thead>\n",
       "  <tbody>\n",
       "    <tr>\n",
       "      <th>count</th>\n",
       "      <td>793.000000</td>\n",
       "    </tr>\n",
       "    <tr>\n",
       "      <th>mean</th>\n",
       "      <td>415.651576</td>\n",
       "    </tr>\n",
       "    <tr>\n",
       "      <th>std</th>\n",
       "      <td>184.711612</td>\n",
       "    </tr>\n",
       "    <tr>\n",
       "      <th>min</th>\n",
       "      <td>177.280000</td>\n",
       "    </tr>\n",
       "    <tr>\n",
       "      <th>25%</th>\n",
       "      <td>254.520000</td>\n",
       "    </tr>\n",
       "    <tr>\n",
       "      <th>50%</th>\n",
       "      <td>373.490000</td>\n",
       "    </tr>\n",
       "    <tr>\n",
       "      <th>75%</th>\n",
       "      <td>525.630000</td>\n",
       "    </tr>\n",
       "    <tr>\n",
       "      <th>max</th>\n",
       "      <td>1147.250000</td>\n",
       "    </tr>\n",
       "  </tbody>\n",
       "</table>\n",
       "</div>"
      ],
      "text/plain": [
       "       close_price\n",
       "count   793.000000\n",
       "mean    415.651576\n",
       "std     184.711612\n",
       "min     177.280000\n",
       "25%     254.520000\n",
       "50%     373.490000\n",
       "75%     525.630000\n",
       "max    1147.250000"
      ]
     },
     "execution_count": 144,
     "metadata": {},
     "output_type": "execute_result"
    }
   ],
   "source": [
    "# bitcoin price data\n",
    "btcPrice = pd.read_excel('bitcoin-data/bitcoin_price.xlsx', 'bitcoin_price', parse_dates = ['date'], dayfirst=True)\n",
    "btcPrice = Opinion.getDataByDateRange(btcPrice, '2013-12-1', '2016-2-1')\n",
    "btcPrice.describe()"
   ]
  },
  {
   "cell_type": "code",
   "execution_count": 145,
   "metadata": {},
   "outputs": [],
   "source": [
    "#order data, by, true=asc, false=desc\n",
    "replies = Opinion.orderData(replies, 'date', bool(0))\n",
    "topics = Opinion.orderData(topics, 'date', bool(0))\n",
    "btcPrice = Opinion.orderData(btcPrice, 'date', bool(0))"
   ]
  },
  {
   "cell_type": "markdown",
   "metadata": {},
   "source": [
    "# Computing number of topics and number of replies "
   ]
  },
  {
   "cell_type": "code",
   "execution_count": 118,
   "metadata": {},
   "outputs": [
    {
     "data": {
      "text/plain": [
       "(1139, 3)"
      ]
     },
     "execution_count": 118,
     "metadata": {},
     "output_type": "execute_result"
    }
   ],
   "source": [
    "#number of topics \n",
    "topicCount = Opinion.groupBy(topics, 'date', \"count\")\n",
    "numTopics = pd.DataFrame(topicCount[['date', 'topic']])\n",
    "\n",
    "#number of replies\n",
    "repliesCount = Opinion.groupBy(replies, 'date', \"count\")\n",
    "numReplies = pd.DataFrame(repliesCount[['date', 'reply']])\n",
    "\n",
    "#inner join on date to remove descrepencies\n",
    "numTopicsReplies = pd.merge(numTopics, numReplies, how='inner', on='date')\n",
    "numTopicsReplies.shape"
   ]
  },
  {
   "cell_type": "markdown",
   "metadata": {},
   "source": [
    "# Labeling replies from very negative to very possitive"
   ]
  },
  {
   "cell_type": "code",
   "execution_count": 120,
   "metadata": {},
   "outputs": [
    {
     "data": {
      "text/plain": [
       "(1667, 2)"
      ]
     },
     "execution_count": 120,
     "metadata": {},
     "output_type": "execute_result"
    }
   ],
   "source": [
    "#five categories \n",
    "#labeling replies i.e very negative to very positive\n",
    "replies = Opinion.vaderCategorize(replies)\n",
    "\n",
    "#get comment by category, i.e very positive to very negative\n",
    "# Positive replies has more coorelation with bitcoin price data\n",
    "filteredreplies = Opinion.getCommentsByCat(replies, 'positive')\n",
    "\n",
    "#summing vader of replies by date\n",
    "summedreplies = Opinion.groupBy(filteredreplies, 'date', 'sum')\n",
    "summedreplies.shape\n"
   ]
  },
  {
   "cell_type": "markdown",
   "metadata": {
    "collapsed": true
   },
   "source": [
    "# Merging Topics, number of replies and positive replies"
   ]
  },
  {
   "cell_type": "code",
   "execution_count": 146,
   "metadata": {},
   "outputs": [
    {
     "data": {
      "text/plain": [
       "(1115, 4)"
      ]
     },
     "execution_count": 146,
     "metadata": {},
     "output_type": "execute_result"
    }
   ],
   "source": [
    "#inner join on date to remove descrepencies\n",
    "sentiments = pd.merge(numTopicsReplies, summedreplies, how='inner', on='date')\n",
    "sentiments.shape"
   ]
  },
  {
   "cell_type": "markdown",
   "metadata": {},
   "source": [
    "# Merging Topics, number of replies, positvie replies and Bitcoin Price"
   ]
  },
  {
   "cell_type": "code",
   "execution_count": 149,
   "metadata": {},
   "outputs": [
    {
     "data": {
      "text/html": [
       "<div>\n",
       "<style>\n",
       "    .dataframe thead tr:only-child th {\n",
       "        text-align: right;\n",
       "    }\n",
       "\n",
       "    .dataframe thead th {\n",
       "        text-align: left;\n",
       "    }\n",
       "\n",
       "    .dataframe tbody tr th {\n",
       "        vertical-align: top;\n",
       "    }\n",
       "</style>\n",
       "<table border=\"1\" class=\"dataframe\">\n",
       "  <thead>\n",
       "    <tr style=\"text-align: right;\">\n",
       "      <th></th>\n",
       "      <th>date</th>\n",
       "      <th>close_price</th>\n",
       "      <th>topic</th>\n",
       "      <th>reply</th>\n",
       "      <th>VADER</th>\n",
       "    </tr>\n",
       "  </thead>\n",
       "  <tbody>\n",
       "    <tr>\n",
       "      <th>0</th>\n",
       "      <td>2016-02-01</td>\n",
       "      <td>371.25</td>\n",
       "      <td>19</td>\n",
       "      <td>931</td>\n",
       "      <td>89.5349</td>\n",
       "    </tr>\n",
       "    <tr>\n",
       "      <th>1</th>\n",
       "      <td>2016-01-31</td>\n",
       "      <td>367.13</td>\n",
       "      <td>10</td>\n",
       "      <td>780</td>\n",
       "      <td>80.3750</td>\n",
       "    </tr>\n",
       "    <tr>\n",
       "      <th>2</th>\n",
       "      <td>2016-01-30</td>\n",
       "      <td>376.94</td>\n",
       "      <td>7</td>\n",
       "      <td>900</td>\n",
       "      <td>89.5305</td>\n",
       "    </tr>\n",
       "  </tbody>\n",
       "</table>\n",
       "</div>"
      ],
      "text/plain": [
       "        date  close_price  topic  reply    VADER\n",
       "0 2016-02-01       371.25     19    931  89.5349\n",
       "1 2016-01-31       367.13     10    780  80.3750\n",
       "2 2016-01-30       376.94      7    900  89.5305"
      ]
     },
     "execution_count": 149,
     "metadata": {},
     "output_type": "execute_result"
    }
   ],
   "source": [
    "dataset = pd.merge(btcPrice, sentiments, how='inner', on='date')\n",
    "dataset.head(3)"
   ]
  },
  {
   "cell_type": "code",
   "execution_count": 157,
   "metadata": {
    "collapsed": true
   },
   "outputs": [],
   "source": [
    "dataset.to_csv('bitcoin-data/dataset.csv')"
   ]
  },
  {
   "cell_type": "markdown",
   "metadata": {},
   "source": [
    "# Visualizing dataset"
   ]
  },
  {
   "cell_type": "code",
   "execution_count": 150,
   "metadata": {},
   "outputs": [
    {
     "data": {
      "image/png": "[encoded data removed]",
      "text/plain": [
       "<matplotlib.figure.Figure at 0x1925a898>"
      ]
     },
     "metadata": {},
     "output_type": "display_data"
    }
   ],
   "source": [
    "#Visualizing dataset\n",
    "dataset = Opinion.orderData(dataset, 'date')\n",
    "values = dataset.values\n",
    "# specify columns to plot\n",
    "groups = [1, 2, 3, 4]\n",
    "i = 1\n",
    "# plot each column\n",
    "fig, ax = plt.subplots(figsize=(15, 7))\n",
    "for group in groups:\n",
    "    plt.subplot(len(groups), 1, i)\n",
    "    plt.plot(values[:, group])\n",
    "    plt.title(dataset.columns[group], y=0.5, loc='right')\n",
    "    i += 1\n",
    "    \n",
    "plt.show()\n"
   ]
  },
  {
   "cell_type": "markdown",
   "metadata": {},
   "source": [
    "# Making data ready for LSTM"
   ]
  },
  {
   "cell_type": "code",
   "execution_count": 204,
   "metadata": {},
   "outputs": [
    {
     "name": "stdout",
     "output_type": "stream",
     "text": [
      "   var1(t-2)  var2(t-2)  var3(t-2)  var4(t-2)  var1(t-1)  var2(t-1)  \\\n",
      "2   0.793468   0.048780   0.033566   0.007646   0.887728   0.182927   \n",
      "3   0.887728   0.182927   0.017733   0.000000   0.918987   0.365854   \n",
      "4   0.918987   0.365854   0.179227   0.157974   1.000000   0.536585   \n",
      "5   1.000000   0.536585   0.240025   0.306284   0.891522   0.451219   \n",
      "6   0.891522   0.451219   0.324889   0.340973   0.677083   0.475610   \n",
      "\n",
      "   var3(t-1)  var4(t-1)   var1(t)  \n",
      "2   0.017733   0.000000  0.918987  \n",
      "3   0.179227   0.157974  1.000000  \n",
      "4   0.240025   0.306284  0.891522  \n",
      "5   0.324889   0.340973  0.677083  \n",
      "6   0.283091   0.287945  0.533202  \n"
     ]
    }
   ],
   "source": [
    "def series_to_supervised(data, n_in=1, n_out=1, dropnan=True):\n",
    "    n_vars = 1 if type(data) is list else data.shape[1]\n",
    "    df = pd.DataFrame(data)\n",
    "    cols, names = list(), list()\n",
    "    # input sequence (t-n, ... t-1)\n",
    "    for i in range(n_in, 0, -1):\n",
    "        cols.append(df.shift(i))\n",
    "        names += [('var%d(t-%d)' % (j+1, i)) for j in range(n_vars)]\n",
    "    # forecast sequence (t, t+1, ... t+n)\n",
    "    for i in range(0, n_out):\n",
    "        cols.append(df.shift(-i))\n",
    "        if i == 0:\n",
    "            names += [('var%d(t)' % (j+1)) for j in range(n_vars)]\n",
    "        else:\n",
    "            names += [('var%d(t+%d)' % (j+1, i)) for j in range(n_vars)]\n",
    "    # put it all together\n",
    "    agg = pd.concat(cols, axis=1)\n",
    "    agg.columns = names\n",
    "    # drop rows with NaN values\n",
    "    if dropnan:\n",
    "        agg.dropna(inplace=True)\n",
    "    return agg\n",
    "# load dataset\n",
    "dataset = pd.read_csv('bitcoin-data/dataset.csv', header=0, index_col=0)\n",
    "dataset.drop('date', axis=1, inplace=True)\n",
    "values = dataset.values\n",
    "# ensure all data is float\n",
    "values = values.astype('float32')\n",
    "# normalize features\n",
    "scaler = MinMaxScaler(feature_range=(0, 1))\n",
    "scaled = scaler.fit_transform(values)\n",
    "# frame as supervised learning\n",
    "reframed = series_to_supervised(scaled, 2, 1)\n",
    "# drop columns we don't want to predict\n",
    "reframed.drop(reframed.columns[[9,10,11]], axis=1, inplace=True)\n",
    "print(reframed.head())"
   ]
  },
  {
   "cell_type": "markdown",
   "metadata": {},
   "source": [
    "# Splitting Data into Training and Testing Dataset"
   ]
  },
  {
   "cell_type": "code",
   "execution_count": 205,
   "metadata": {},
   "outputs": [
    {
     "name": "stdout",
     "output_type": "stream",
     "text": [
      "(600, 1, 8) (600,) (187, 1, 8) (187,)\n"
     ]
    }
   ],
   "source": [
    "# split into train and test sets\n",
    "# split into train and test sets\n",
    "values = reframed.values\n",
    "n_train_hours = 600\n",
    "train = values[:n_train_hours, :]\n",
    "test = values[n_train_hours:, :]\n",
    "# split into input and outputs\n",
    "train_X, train_y = train[:, :-1], train[:, -1]\n",
    "test_X, test_y = test[:, :-1], test[:, -1]\n",
    "# reshape input to be 3D [samples, timesteps, features]\n",
    "train_X = train_X.reshape((train_X.shape[0], 1, train_X.shape[1]))\n",
    "test_X = test_X.reshape((test_X.shape[0], 1, test_X.shape[1]))\n",
    "print(train_X.shape, train_y.shape, test_X.shape, test_y.shape)"
   ]
  },
  {
   "cell_type": "code",
   "execution_count": 206,
   "metadata": {},
   "outputs": [
    {
     "name": "stdout",
     "output_type": "stream",
     "text": [
      "Train on 600 samples, validate on 187 samples\n",
      "Epoch 1/10\n",
      "8s - loss: 0.2119 - val_loss: 0.0658\n",
      "Epoch 2/10\n",
      "9s - loss: 0.1722 - val_loss: 0.0601\n",
      "Epoch 3/10\n",
      "10s - loss: 0.1398 - val_loss: 0.0688\n",
      "Epoch 4/10\n",
      "9s - loss: 0.1207 - val_loss: 0.0710\n",
      "Epoch 5/10\n",
      "9s - loss: 0.1066 - val_loss: 0.0651\n",
      "Epoch 6/10\n",
      "9s - loss: 0.0946 - val_loss: 0.0555\n",
      "Epoch 7/10\n",
      "10s - loss: 0.0839 - val_loss: 0.0461\n",
      "Epoch 8/10\n",
      "11s - loss: 0.0729 - val_loss: 0.0371\n",
      "Epoch 9/10\n",
      "9s - loss: 0.0612 - val_loss: 0.0290\n",
      "Epoch 10/10\n",
      "9s - loss: 0.0496 - val_loss: 0.0253\n"
     ]
    },
    {
     "data": {
      "image/png": "[encoded data removed]",
      "text/plain": [
       "<matplotlib.figure.Figure at 0x18d2ba20>"
      ]
     },
     "metadata": {},
     "output_type": "display_data"
    }
   ],
   "source": [
    "# design network\n",
    "from sklearn.preprocessing import MinMaxScaler\n",
    "from sklearn.preprocessing import LabelEncoder\n",
    "from sklearn.metrics import mean_squared_error\n",
    "from keras.models import Sequential\n",
    "from keras.layers import Dense\n",
    "from keras.layers import LSTM\n",
    "\n",
    "model = Sequential()\n",
    "model.add(LSTM(8, input_shape=(train_X.shape[1], train_X.shape[2])))\n",
    "model.add(Dense(1))\n",
    "model.compile(loss='mae', optimizer='adam')\n",
    "# fit network\n",
    "history = model.fit(train_X, train_y, epochs=10, batch_size=10, validation_data=(test_X, test_y), verbose=2, shuffle=False)\n",
    "# plot history\n",
    "plt.plot(history.history['loss'], label='train')\n",
    "plt.plot(history.history['val_loss'], label='test')\n",
    "plt.legend()\n",
    "plt.show()"
   ]
  },
  {
   "cell_type": "code",
   "execution_count": 207,
   "metadata": {},
   "outputs": [
    {
     "name": "stdout",
     "output_type": "stream",
     "text": [
      "Test RMSE: 0.034\n"
     ]
    }
   ],
   "source": [
    "# make a prediction\n",
    "import math\n",
    "yhat = model.predict(test_X)\n",
    "test_X = test_X.reshape((test_X.shape[0], test_X.shape[2]))\n",
    "# invert scaling for forecast\n",
    "inv_yhat = np.concatenate((yhat, test_X[:, 1:]), axis=1)\n",
    "#inv_yhat = scaler.inverse_transform(inv_yhat)\n",
    "inv_yhat = inv_yhat[:,0]\n",
    "# invert scaling for actual\n",
    "test_y = test_y.reshape((len(test_y), 1))\n",
    "inv_y =  np.concatenate((test_y, test_X[:, 1:]), axis=1)\n",
    "#inv_y = scaler.inverse_transform(inv_y)\n",
    "inv_y = inv_y[:,0]\n",
    "# calculate RMSE\n",
    "rmse = math.sqrt(mean_squared_error(inv_y, inv_yhat))\n",
    "print('Test RMSE: %.3f' % rmse)"
   ]
  },
  {
   "cell_type": "code",
   "execution_count": 212,
   "metadata": {},
   "outputs": [
    {
     "data": {
      "text/plain": [
       "array([ 0.11246573,  0.10332301,  0.10905784,  0.10711971,  0.11740129,\n",
       "        0.10322995,  0.13235635,  0.15980639,  0.12448315,  0.09969108,\n",
       "        0.08613125,  0.083088  ,  0.07512865,  0.09181018,  0.09973787,\n",
       "        0.08552298,  0.0804324 ,  0.07492468,  0.08662973,  0.10630303,\n",
       "        0.1376261 ,  0.12813386,  0.16214976,  0.15182927,  0.14847055,\n",
       "        0.1091622 ,  0.09659835,  0.12312502,  0.09313859,  0.08089145,\n",
       "        0.08939627,  0.08688488,  0.05320856,  0.08017584,  0.07864258,\n",
       "        0.0717289 ,  0.07193949,  0.07799657,  0.0943552 ,  0.07009327,\n",
       "        0.05416594,  0.06313525,  0.07104727,  0.08295487,  0.1105317 ,\n",
       "        0.08052129,  0.03480294,  0.05023734,  0.06637099,  0.07277733,\n",
       "        0.07272814,  0.06677532,  0.05200107,  0.04822283,  0.05463149,\n",
       "        0.06350963,  0.08522269,  0.06910648,  0.07274291,  0.06182759,\n",
       "        0.05200939,  0.05396783,  0.05135495,  0.05160884,  0.07258134,\n",
       "        0.07046527,  0.05720729,  0.05773459,  0.05747161,  0.06763536,\n",
       "        0.06988756,  0.07240334,  0.05353967,  0.06431815,  0.04341918,\n",
       "        0.04945802,  0.06751005,  0.10283958,  0.08361524,  0.09644138,\n",
       "        0.08391812,  0.0808175 ,  0.06742258,  0.08146306,  0.0880411 ,\n",
       "        0.07947735,  0.08213428,  0.09452798,  0.09900329,  0.08423239,\n",
       "        0.11005398,  0.12606922,  0.13093384,  0.12640281,  0.11352916,\n",
       "        0.12134355,  0.153439  ,  0.19978729,  0.24765161,  0.27167752,\n",
       "        0.22238526,  0.16859898,  0.17884819,  0.16379231,  0.1698658 ,\n",
       "        0.15451562,  0.15174131,  0.16919212,  0.14494069,  0.11300364,\n",
       "        0.11811632,  0.15527235,  0.15025142,  0.12987421,  0.13248707,\n",
       "        0.12918042,  0.13523845,  0.14827493,  0.14519592,  0.1388749 ,\n",
       "        0.12354219,  0.15103072,  0.15159133,  0.15625931,  0.15629806,\n",
       "        0.18791498,  0.17279097,  0.16603252,  0.18161283,  0.14514093,\n",
       "        0.16152456,  0.17113465,  0.19180278,  0.23295906,  0.27937719,\n",
       "        0.26718313,  0.25385275,  0.25352451,  0.24881519,  0.27743277,\n",
       "        0.27412033,  0.2715134 ,  0.27424935,  0.24349044,  0.21991883,\n",
       "        0.214773  ,  0.24252048,  0.25371665,  0.22984323,  0.24154127,\n",
       "        0.20669335,  0.21207976,  0.23848286,  0.22842018,  0.22323976,\n",
       "        0.26316041,  0.22030541,  0.22181296,  0.2367204 ,  0.22513884,\n",
       "        0.23997401,  0.23679689,  0.24571964,  0.26131091,  0.26153502,\n",
       "        0.26761165,  0.24017482,  0.2364758 ,  0.25419545,  0.25754842,\n",
       "        0.23508359,  0.2797631 ,  0.26696327,  0.24931222,  0.23716083,\n",
       "        0.27770448,  0.28335932,  0.26150104,  0.26491398,  0.2417291 ,\n",
       "        0.21994558,  0.22728774,  0.21339408,  0.24470215,  0.18703972,\n",
       "        0.20625888,  0.19366606], dtype=float32)"
      ]
     },
     "execution_count": 212,
     "metadata": {},
     "output_type": "execute_result"
    }
   ],
   "source": [
    "yhat"
   ]
  },
  {
   "cell_type": "code",
   "execution_count": null,
   "metadata": {
    "collapsed": true
   },
   "outputs": [],
   "source": []
  }
 ],
 "metadata": {
  "kernelspec": {
   "display_name": "Python 3",
   "language": "python",
   "name": "python3"
  },
  "language_info": {
   "codemirror_mode": {
    "name": "ipython",
    "version": 3
   },
   "file_extension": ".py",
   "mimetype": "text/x-python",
   "name": "python",
   "nbconvert_exporter": "python",
   "pygments_lexer": "ipython3",
   "version": "3.6.1"
  }
 },
 "nbformat": 4,
 "nbformat_minor": 2
}
